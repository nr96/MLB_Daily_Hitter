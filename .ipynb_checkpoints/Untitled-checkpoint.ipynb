{
 "cells": [
  {
   "cell_type": "code",
   "execution_count": 586,
   "metadata": {},
   "outputs": [],
   "source": [
    "import pandas as pd\n",
    "import re\n",
    "import requests\n",
    "from bs4 import BeautifulSoup\n",
    "\n",
    "#url = 'http://www.espn.com/mlb/player/_/id/33398/garrett-cooper'"
   ]
  },
  {
   "cell_type": "code",
   "execution_count": 606,
   "metadata": {},
   "outputs": [
    {
     "name": "stdout",
     "output_type": "stream",
     "text": [
      "Empty DataFrame\n",
      "Columns: [PLAYER, TEAM, AB, R, H, 2B, 3B, HR, RBI, SB, CS, BB, SO, AVG, OBP, SLG, OPS]\n",
      "Index: []\n",
      "Empty DataFrame\n",
      "Columns: [PLAYER, TEAM, AB, R, H, 2B, 3B, HR, RBI, SB, CS, BB, SO, AVG, OBP, SLG, OPS]\n",
      "Index: []\n",
      "Empty DataFrame\n",
      "Columns: [PLAYER, TEAM, AB, R, H, 2B, 3B, HR, RBI, SB, CS, BB, SO, AVG, OBP, SLG, OPS]\n",
      "Index: []\n",
      "Empty DataFrame\n",
      "Columns: [PLAYER, TEAM, AB, R, H, 2B, 3B, HR, RBI, SB, CS, BB, SO, AVG, OBP, SLG, OPS]\n",
      "Index: []\n",
      "Empty DataFrame\n",
      "Columns: [PLAYER, TEAM, AB, R, H, 2B, 3B, HR, RBI, SB, CS, BB, SO, AVG, OBP, SLG, OPS]\n",
      "Index: []\n",
      "Empty DataFrame\n",
      "Columns: [PLAYER, TEAM, AB, R, H, 2B, 3B, HR, RBI, SB, CS, BB, SO, AVG, OBP, SLG, OPS]\n",
      "Index: []\n",
      "Empty DataFrame\n",
      "Columns: [PLAYER, TEAM, AB, R, H, 2B, 3B, HR, RBI, SB, CS, BB, SO, AVG, OBP, SLG, OPS]\n",
      "Index: []\n",
      "Empty DataFrame\n",
      "Columns: [PLAYER, TEAM, AB, R, H, 2B, 3B, HR, RBI, SB, CS, BB, SO, AVG, OBP, SLG, OPS]\n",
      "Index: []\n"
     ]
    }
   ],
   "source": [
    "urls = ['http://www.espn.com/mlb/stats/batting/_/split/61/sort/atBats/count/',\n",
    "        'http://www.espn.com/mlb/stats/batting/_/split/61/sort/atBats/count/41',\n",
    "        'http://www.espn.com/mlb/stats/batting/_/split/61/sort/atBats/count/81',\n",
    "        'http://www.espn.com/mlb/stats/batting/_/split/61/sort/atBats/count/121',\n",
    "        'http://www.espn.com/mlb/stats/batting/_/split/61/sort/atBats/count/161',\n",
    "        'http://www.espn.com/mlb/stats/batting/_/split/61/sort/atBats/count/201',\n",
    "        'http://www.espn.com/mlb/stats/batting/_/split/61/sort/atBats/count/241',\n",
    "        'http://www.espn.com/mlb/stats/batting/_/split/61/sort/atBats/count/281']\n",
    "\n",
    "player_db = []\n",
    "\n",
    "for url in urls:\n",
    "    page = requests.get(url)\n",
    "    soup = BeautifulSoup(page.text, 'html.parser')\n",
    "    table = soup.find('table') # get table html\n",
    "    player_rows = table.find_all(\"tr\", attrs={'class': re.compile(\"row player-10-\")})\n",
    "    \n",
    "    header = soup.find('tr', attrs={'class':'colhead'})\n",
    "    columns = [col.text for col in header.find_all('td')]\n",
    "    columns = columns[1:]\n",
    "    \n",
    "    final_df = pd.DataFrame(columns=columns)\n",
    "    #final_df\n",
    "    \n",
    "    for player in player_rows:\n",
    "        stats = [stat.text for stat in player.find_all('td')]\n",
    "        stats = stats[1:]\n",
    "        temp_df = pd.DataFrame(stats).transpose()\n",
    "        temp_df.columns = columns\n",
    "        #print (temp_df)\n",
    "\n",
    "#for player in player_db:\n",
    "#    print(player)\n"
   ]
  },
  {
   "cell_type": "code",
   "execution_count": null,
   "metadata": {},
   "outputs": [],
   "source": []
  },
  {
   "cell_type": "code",
   "execution_count": null,
   "metadata": {},
   "outputs": [],
   "source": []
  }
 ],
 "metadata": {
  "kernelspec": {
   "display_name": "Python 3",
   "language": "python",
   "name": "python3"
  },
  "language_info": {
   "codemirror_mode": {
    "name": "ipython",
    "version": 3
   },
   "file_extension": ".py",
   "mimetype": "text/x-python",
   "name": "python",
   "nbconvert_exporter": "python",
   "pygments_lexer": "ipython3",
   "version": "3.6.4"
  }
 },
 "nbformat": 4,
 "nbformat_minor": 2
}
